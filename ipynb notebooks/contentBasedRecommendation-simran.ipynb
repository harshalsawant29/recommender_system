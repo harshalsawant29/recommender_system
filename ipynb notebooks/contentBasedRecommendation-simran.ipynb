{
 "cells": [
  {
   "cell_type": "code",
   "execution_count": 1,
   "id": "53844233",
   "metadata": {},
   "outputs": [],
   "source": [
    "import pandas as pd\n",
    "import numpy as np\n",
    "from sklearn import preprocessing\n",
    "from IPython.display import display, HTML"
   ]
  },
  {
   "cell_type": "code",
   "execution_count": 28,
   "id": "0088356c",
   "metadata": {},
   "outputs": [
    {
     "name": "stdout",
     "output_type": "stream",
     "text": [
      "                                                  title_x  price  \\\n",
      "78228   Nongshim Kimchi Noodle Soup Bowl, 3.03 Ounce (...   7.38   \n",
      "39279   A-Sha Healthy Ramen Noodles - Original Sauce P...  29.34   \n",
      "105763  Thai Kitchen Gluten Free Stir Fry Rice Noodles...   4.18   \n",
      "66199   Cadbury Curly Wurly Chocolate Chewy Bars | Tot...  19.91   \n",
      "40668   Maruchan Ramen Creamy Chicken Flavor, 3 Oz, Pa...   5.98   \n",
      "85551   Assi, packs Glass Noodles Korean Vermicelli Da...   9.99   \n",
      "106560  Wide Thai Rice Stick Noodles Xl (1cm) Pack of ...  12.99   \n",
      "8755    MAMA Noodles Pad Thai Instant Spicy Noodles w/...  19.99   \n",
      "108821  Lean Cuisine Frozen Meal Chicken Fettuccine, C...   3.49   \n",
      "91691   Apexy Organic Shirataki Konjac Noodle Fettucci...  14.99   \n",
      "\n",
      "        average_rating  \n",
      "78228              4.5  \n",
      "39279              4.2  \n",
      "105763             4.6  \n",
      "66199              4.3  \n",
      "40668              4.7  \n",
      "85551              4.6  \n",
      "106560             4.5  \n",
      "8755               4.3  \n",
      "108821             4.5  \n",
      "91691              4.0  \n"
     ]
    }
   ],
   "source": [
    "import pandas as pd\n",
    "from sklearn.feature_extraction.text import TfidfVectorizer\n",
    "from sklearn.metrics.pairwise import cosine_similarity\n",
    "\n",
    "# Load your dataset\n",
    "data = pd.read_csv('C:/Users/User/Downloads/merged_final_dataset.csv')\n",
    "\n",
    "# Preprocessing\n",
    "data['text'] = data['text'].fillna('')\n",
    "\n",
    "# Initializing TF-IDF Vectorizer\n",
    "tfv = TfidfVectorizer(min_df=5, max_features=10000, strip_accents='unicode', analyzer='word',\n",
    "                      token_pattern=r'\\w{1,}', ngram_range=(1, 3), stop_words='english')\n",
    "\n",
    "# Fitting the TF-IDF on the 'text' column\n",
    "tfv_matrix = tfv.fit_transform(data['text'])\n",
    "\n",
    "# Function to compute similarity in chunks\n",
    "def chunk_similarity(matrix, ref_idx, chunk_size=1000):\n",
    "    # Calculate number of chunks\n",
    "    num_chunks = matrix.shape[0] // chunk_size + (1 if matrix.shape[0] % chunk_size != 0 else 0)\n",
    "    sim_scores = []\n",
    "\n",
    "    for chunk_start in range(0, matrix.shape[0], chunk_size):\n",
    "        chunk_end = min(chunk_start + chunk_size, matrix.shape[0])\n",
    "        # Compute similarities for the chunk\n",
    "        sim_chunk = cosine_similarity(matrix[ref_idx:ref_idx+1], matrix[chunk_start:chunk_end])\n",
    "        sim_scores.extend(sim_chunk.flatten())\n",
    "\n",
    "    return sim_scores\n",
    "\n",
    "# Example usage\n",
    "title = 'JFC Dried Tomoshiraga Somen Noodles, 16-Ounce'\n",
    "idx = data[data['title_x'] == title].index[0]\n",
    "scores = chunk_similarity(tfv_matrix, idx)\n",
    "top_indices = sorted(range(len(scores)), key=lambda i: scores[i], reverse=True)[1:11]\n",
    "\n",
    "# Output the recommendations including price and rating\n",
    "recommended_products = data.iloc[top_indices][['title_x', 'price', 'average_rating']]\n",
    "print(recommended_products)\n"
   ]
  },
  {
   "cell_type": "code",
   "execution_count": null,
   "id": "51d6d15b",
   "metadata": {},
   "outputs": [],
   "source": []
  }
 ],
 "metadata": {
  "kernelspec": {
   "display_name": "Python 3 (ipykernel)",
   "language": "python",
   "name": "python3"
  },
  "language_info": {
   "codemirror_mode": {
    "name": "ipython",
    "version": 3
   },
   "file_extension": ".py",
   "mimetype": "text/x-python",
   "name": "python",
   "nbconvert_exporter": "python",
   "pygments_lexer": "ipython3",
   "version": "3.11.3"
  }
 },
 "nbformat": 4,
 "nbformat_minor": 5
}
